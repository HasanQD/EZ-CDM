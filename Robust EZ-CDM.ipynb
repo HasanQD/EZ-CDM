{
 "cells": [
  {
   "cell_type": "markdown",
   "id": "c899f03c",
   "metadata": {},
   "source": [
    "# Simple EZ-CDM"
   ]
  },
  {
   "cell_type": "markdown",
   "id": "d1becf63",
   "metadata": {},
   "source": [
    "We will illustrate the fitting procedure of the robust EZ-CDM in the following steps:\n",
    "- importing data\n",
    "- calculating the statistics of data\n",
    "- calculating estimates of parameters from statistics of data\n",
    "- plotting fits"
   ]
  },
  {
   "cell_type": "markdown",
   "id": "80600f99",
   "metadata": {},
   "source": [
    "##  Importing data"
   ]
  },
  {
   "cell_type": "markdown",
   "id": "9d70ea12",
   "metadata": {},
   "source": [
    "The data should be a couple in the format of a list or a NumPy array in which `CA` represents the choice angle and `RT` represents the response time data.\\\n",
    "Here, we use an example for the data containing 200 trials which are simulated from the CDM with the following parameter values:\n",
    "\n",
    "| Parameter | Value |\n",
    "| ----------- | ----------- |\n",
    "| drift length | 2 |\n",
    "| drift angle | 0.2 |\n",
    "| threshold | 2 |\n",
    "| non-decision time | 0.6 |\n",
    "\n",
    "We replace the last ten response time data with an outlier value of $10$. \\\n",
    "The choice angle is in radian and response time is in second."
   ]
  },
  {
   "cell_type": "code",
   "execution_count": 1,
   "id": "25f83828",
   "metadata": {},
   "outputs": [],
   "source": [
    "CA = [  1.298, -0.374,  0.783,  0.491, -0.141, -0.089,  0.724,  0.356,\n",
    "        0.437, -0.304,  0.3  ,  0.   , -0.328,  0.98 , -0.457,  0.247,\n",
    "        0.56 ,  0.736,  0.092,  0.887,  1.022,  0.597, -0.537, -0.247,\n",
    "        0.454,  1.01 , -0.141, -0.217,  0.572,  0.12 , -0.507,  0.482,\n",
    "        1.007,  0.937,  0.046, -0.322, -0.034,  0.86 ,  0.128,  0.065,\n",
    "        1.467,  1.119, -0.009, -0.295, -0.34 , -0.617,  0.864, -0.429,\n",
    "        0.708, -0.296, -0.357, -0.366,  0.168,  1.419,  0.864, -0.142,\n",
    "        1.373, -0.268,  0.831,  0.609,  0.671, -0.799,  0.014,  0.448,\n",
    "        1.021,  0.67 ,  0.089,  1.217,  0.679,  0.654,  0.935,  1.347,\n",
    "       -0.265, -0.524,  0.056,  0.018,  0.413,  0.502,  0.183,  0.851,\n",
    "        0.156,  0.84 ,  0.556,  0.633,  1.443,  1.814, -0.067,  0.295,\n",
    "       -0.509, -0.234, -0.299, -0.538,  0.07 ,  0.045,  0.839,  0.075,\n",
    "        0.818,  0.63 ,  1.041, -0.156,  0.51 , -0.479, -0.184, -0.57 ,\n",
    "        0.302,  0.725, -0.668,  0.584,  0.097, -0.086,  0.168, -0.189,\n",
    "       -0.06 ,  0.594, -0.23 ,  0.109,  0.313,  0.734,  0.736,  0.478,\n",
    "        0.933,  0.112,  0.256,  0.05 ,  0.272,  0.336, -0.539, -0.337,\n",
    "        0.286,  0.301,  0.749, -0.292,  0.581, -0.134, -0.056,  1.034,\n",
    "        0.279, -0.735,  0.337,  1.091,  0.695, -0.126,  0.282,  0.377,\n",
    "       -0.341,  0.681,  0.592, -0.245, -0.137,  0.213, -0.162,  0.15 ,\n",
    "        0.599, -0.548, -0.836,  0.127,  0.245,  0.076,  0.204,  0.396,\n",
    "        0.604,  0.155,  0.277, -0.893,  0.222, -0.438,  0.147,  0.387,\n",
    "        0.021,  0.605, -0.085, -1.154, -0.247,  0.914,  0.754,  0.606,\n",
    "       -0.228,  0.044, -0.178,  0.754, -0.135, -0.43 ,  1.305,  0.17 ,\n",
    "        0.427,  0.158,  1.225,  0.373,  0.113,  1.009,  0.454,  0.874,\n",
    "        0.572,  0.68 ,  0.846,  0.642,  0.661,  0.064,  0.839,  0.345 ]\n",
    "\n",
    "RT = [ 1.779, 1.07 , 1.01 , 1.42 , 0.806, 1.491, 1.751, 1.473, 1.362,\n",
    "       1.264, 1.071, 1.029, 1.331, 1.633, 1.452, 1.403, 1.648, 1.385,\n",
    "       1.775, 2.531, 1.572, 3.21 , 1.313, 1.357, 2.074, 1.43 , 1.81 ,\n",
    "       1.504, 1.237, 1.199, 1.081, 1.736, 2.163, 1.564, 1.372, 1.047,\n",
    "       0.983, 1.295, 1.19 , 1.319, 1.008, 1.292, 1.814, 0.861, 0.987,\n",
    "       1.125, 1.298, 1.515, 1.118, 1.074, 1.172, 1.82 , 1.208, 1.164,\n",
    "       1.251, 1.313, 1.696, 1.409, 1.039, 1.558, 1.111, 1.667, 2.321,\n",
    "       1.451, 1.986, 1.781, 0.931, 1.014, 1.217, 1.35 , 1.326, 0.936,\n",
    "       1.308, 1.193, 1.433, 1.48 , 1.391, 1.307, 1.27 , 1.324, 1.535,\n",
    "       1.074, 1.221, 1.241, 1.016, 1.131, 1.651, 1.896, 1.498, 1.4  ,\n",
    "       1.392, 1.122, 1.21 , 0.949, 1.747, 1.357, 1.619, 1.019, 1.513,\n",
    "       1.319, 0.869, 1.151, 2.842, 3.566, 0.932, 0.989, 1.293, 1.482,\n",
    "       1.178, 1.718, 2.21 , 1.025, 1.741, 1.471, 1.546, 2.001, 1.706,\n",
    "       1.399, 1.283, 1.846, 1.576, 0.952, 1.363, 1.118, 1.163, 1.348,\n",
    "       1.026, 1.175, 1.034, 1.75 , 1.567, 1.397, 1.145, 2.005, 1.099,\n",
    "       1.1  , 2.153, 1.381, 1.38 , 1.3  , 0.967, 1.633, 1.774, 1.867,\n",
    "       1.954, 0.854, 1.228, 2.17 , 1.441, 3.017, 1.195, 1.582, 1.071,\n",
    "       1.138, 1.392, 1.526, 1.715, 1.595, 1.29 , 1.829, 1.186, 1.055,\n",
    "       1.39 , 3.263, 2.024, 1.567, 1.485, 1.329, 1.952, 2.184, 1.615,\n",
    "       1.268, 1.306, 1.   , 1.237, 1.559, 1.655, 1.582, 1.118, 1.661,\n",
    "       0.936, 1.527, 1.452, 1.095, 1.713, 1.247, 1.712, 1.808, 1.387,\n",
    "       1.304, 10, 10, 10, 10, 10, 10 , 10, 10,\n",
    "       10, 10 ]"
   ]
  },
  {
   "cell_type": "markdown",
   "id": "f116a0f6",
   "metadata": {},
   "source": [
    "We convert the data to numpy array form."
   ]
  },
  {
   "cell_type": "code",
   "execution_count": 2,
   "id": "f5f5151c",
   "metadata": {},
   "outputs": [],
   "source": [
    "import numpy as np\n",
    "\n",
    "CA = np.array(CA)\n",
    "RT = np.array(RT)"
   ]
  },
  {
   "cell_type": "markdown",
   "id": "bee1d79d",
   "metadata": {},
   "source": [
    "## Calculating the statistics of data"
   ]
  },
  {
   "cell_type": "markdown",
   "id": "6c15586b",
   "metadata": {},
   "source": [
    "According to the article, the required statistics are (we calculated the numerator and denominator of the reaction in the first equation separately as their signs are important):\n",
    "\\begin{equation*}\n",
    "  \\left\\{\n",
    "    \\begin{aligned}\n",
    "        & A_1 = \\sum_{n=1}^N \\sin\\theta_n \\\\\n",
    "        & A_2 = \\sum_{n=1}^N \\cos\\theta_n \\\\\n",
    "        & R=\\frac{1}{N}\\sqrt{\\Big(\\sum_{n=1}^N \\cos\\theta_n\\Big)^2 + \\Big(\\sum_{n=1}^N \\sin\\theta_n\\Big)^2 }  \\\\\n",
    "        & M = median\\big[\\{t_n\\}_{n=1}^N\\big] \\\\\n",
    "        & V = \\Big(IQR\\big[\\{t_n\\}_{n=1}^N\\big]/iqr\\Big)^2\n",
    "    \\end{aligned}\n",
    "  \\right.\n",
    "\\end{equation*}\n",
    "\n",
    "where $\\theta_n$ and $t_n$ are respectively the $n^{th}$ choice angle and response time data points, and $N$ is the number of data points."
   ]
  },
  {
   "cell_type": "code",
   "execution_count": 3,
   "id": "cee411b1",
   "metadata": {},
   "outputs": [],
   "source": [
    "from scipy import stats\n",
    "\n",
    "A1 = np.sum(np.sin(CA))\n",
    "A2 = np.sum(np.cos(CA))\n",
    "R = 1/np.size(CA)*np.sqrt(sum(np.cos(CA))**2+sum(np.sin(CA))**2)\n",
    "M = np.median(RT)\n",
    "V = (stats.iqr(RT)/stats.norm.ppf(.75)/2)**2"
   ]
  },
  {
   "cell_type": "markdown",
   "id": "b36ce361",
   "metadata": {},
   "source": [
    "## Calculating estimates of parameters from statistics of data "
   ]
  },
  {
   "cell_type": "markdown",
   "id": "9b7b2d68",
   "metadata": {},
   "source": [
    "The calculations are as follow:\n",
    "\\begin{equation*}\n",
    "  \\left\\{\n",
    "    \\begin{aligned}\n",
    "        & \\theta_v = \\arctan(A_1/A_2)  \\\\\n",
    "        & \\kappa_0 = \\frac{R(2-R^2)}{1-R^2} \\\\\n",
    "        & \\kappa_1 = \\kappa_0 - \\frac{I_1(\\kappa_0)/I_0(\\kappa_0)-R}{1-I_1^2(\\kappa_0)/I_0^2(\\kappa_0)- I_1(\\kappa_0)/\\kappa_0 I_0(\\kappa_0)} \\\\\n",
    "        & v = \\sqrt[4]{\\frac{1}{V}\\Big( \\kappa_1^2R^2 + 2\\kappa_1R-\\kappa_1^2 \\Big)} \\\\\n",
    "        & a = \\kappa_1/v \\\\\n",
    "        & t_0 = M - \\frac{a}{v}R.\n",
    "    \\end{aligned}\n",
    "  \\right.\n",
    "\\end{equation*}"
   ]
  },
  {
   "cell_type": "markdown",
   "id": "34cde38e",
   "metadata": {},
   "source": [
    "We use the Scipy library for the Bessel functions."
   ]
  },
  {
   "cell_type": "code",
   "execution_count": 4,
   "id": "77f1ef29",
   "metadata": {},
   "outputs": [],
   "source": [
    "from scipy.special import iv"
   ]
  },
  {
   "cell_type": "code",
   "execution_count": 5,
   "id": "e71862a6",
   "metadata": {},
   "outputs": [],
   "source": [
    "theta_v = np.arctan2(A1,A2)\n",
    "k0 = R*(2-R**2)/(1-R**2)\n",
    "k1 = k0 - (iv(1,k0)/iv(0,k0)-R)/(1-iv(1,k0)/iv(0,k0)*iv(1,k0)/iv(0,k0)-iv(1,k0)/iv(0,k0)/k0)\n",
    "v = ((k1**2*R**2+2*k1*R-k1**2)/V)**(1/4)\n",
    "a = k1/v\n",
    "t0 = M-a/v*R"
   ]
  },
  {
   "cell_type": "code",
   "execution_count": 6,
   "id": "733901bc",
   "metadata": {},
   "outputs": [
    {
     "data": {
      "text/plain": [
       "(2.07769512923473, 0.2751222693050221, 1.9314803537301253, 0.5865962944060547)"
      ]
     },
     "execution_count": 6,
     "metadata": {},
     "output_type": "execute_result"
    }
   ],
   "source": [
    "v, theta_v, a, t0"
   ]
  },
  {
   "cell_type": "markdown",
   "id": "3b461b17",
   "metadata": {},
   "source": [
    "The estimated parameter values are:\n",
    "\n",
    "| Parameter | Generating Value | Estimated Value |\n",
    "| ----------- | ----------- | ----------- |\n",
    "| drift length | 2 | 2.08 |\n",
    "| drift angle | 0.2 | 0.275 |\n",
    "| threshold | 2 | 1.93 |\n",
    "| non-decision time | 0.6 | 0.587 |"
   ]
  },
  {
   "cell_type": "markdown",
   "id": "686bc789",
   "metadata": {},
   "source": [
    "## Plotting fits "
   ]
  },
  {
   "cell_type": "markdown",
   "id": "21591a49",
   "metadata": {},
   "source": [
    "We can use the following formulas for calculating the marginal distributions of choice angle and response time to plot the fits of the model on data:\n",
    "\n",
    "\\begin{equation*}\n",
    "    \\begin{aligned}\n",
    "        Pr(\\theta) = & \\frac{1}{2\\pi I_0(av)}\\exp\\Big(va\\cos(\\theta-\\theta_v)\\Big) \\\\\n",
    "        Pr(t) = &  \\frac{I_0(av)}{a^2}\\sum_{i =1}^{\\infty}\\frac{j_{0,i}}{J_1(j_{0,i})}\\exp\\big(-\\frac{(t-t_0)}{2}(v^2+\\frac{j_{0,i}^2}{a^2})\\big) \n",
    "    \\end{aligned}\n",
    "\\end{equation*}\n",
    "\n"
   ]
  },
  {
   "cell_type": "code",
   "execution_count": 7,
   "id": "f1449ef2",
   "metadata": {},
   "outputs": [],
   "source": [
    "def PrCA(v, theta_v, a, t0, theta):\n",
    "    return np.exp(a*v*np.cos(theta-theta_v))/2/np.pi/iv(0,v*a)"
   ]
  },
  {
   "cell_type": "code",
   "execution_count": 8,
   "id": "75d688d8",
   "metadata": {},
   "outputs": [],
   "source": [
    "import scipy\n",
    "\n",
    "j0 = scipy.special.jn_zeros(0, 200)\n",
    "J1 = scipy.special.jv(1, j0)\n",
    "\n",
    "def PrRT(v, theta_v, a, t0, t):\n",
    "    if t<=t0:\n",
    "        return 0\n",
    "    else:\n",
    "        ans = sum(j0/J1*np.exp(-j0**2*(t-t0)/2/a**2))/a**2*np.exp(-v**2*(t-t0)/2)*iv(0,v*a)\n",
    "        if ans<0: # returning 0 for negative probability\n",
    "            ans = 0\n",
    "        if j0[-1]/J1[-1]*np.exp(-j0[-1]**2*(t-t0)/2/a**2) != 0: # returning 0 for non-convereged series\n",
    "            ans = 0\n",
    "        return ans"
   ]
  },
  {
   "cell_type": "code",
   "execution_count": 9,
   "id": "ca55a1d2",
   "metadata": {},
   "outputs": [
    {
     "data": {
      "image/png": "[encoded data removed]",
      "text/plain": [
       "<Figure size 1440x720 with 2 Axes>"
      ]
     },
     "metadata": {
      "needs_background": "light"
     },
     "output_type": "display_data"
    }
   ],
   "source": [
    "import matplotlib.pyplot as plt\n",
    "\n",
    "figure, axis = plt.subplots(1, 2, figsize=(20,10), tight_layout=True)\n",
    "\n",
    "theta = np.linspace(min(CA), max(CA), 100)\n",
    "Pr_theta = np.empty(len(theta))\n",
    "for i in range(len(theta)):\n",
    "    Pr_theta[i] = PrCA(v, theta_v, a, t0, theta[i])\n",
    "    \n",
    "t = np.linspace(min(RT), max(RT), 1000)\n",
    "Pr_t = np.empty(len(t))\n",
    "for i in range(len(t)):\n",
    "    Pr_t[i] = PrRT(v, theta_v, a, t0, t[i])\n",
    "    \n",
    "axis[0].hist(CA, bins=20, density=True)\n",
    "axis[0].plot(theta, Pr_theta, linewidth=5)\n",
    "axis[1].hist(RT, bins=50, density=True)\n",
    "axis[1].plot(t, Pr_t, linewidth=5)\n",
    "plt.show()"
   ]
  }
 ],
 "metadata": {
  "kernelspec": {
   "display_name": "Python 3",
   "language": "python",
   "name": "python3"
  },
  "language_info": {
   "codemirror_mode": {
    "name": "ipython",
    "version": 3
   },
   "file_extension": ".py",
   "mimetype": "text/x-python",
   "name": "python",
   "nbconvert_exporter": "python",
   "pygments_lexer": "ipython3",
   "version": "3.8.10"
  }
 },
 "nbformat": 4,
 "nbformat_minor": 5
}
